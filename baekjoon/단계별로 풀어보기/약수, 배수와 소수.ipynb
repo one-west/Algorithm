{
 "cells": [
  {
   "cell_type": "code",
   "execution_count": null,
   "metadata": {},
   "outputs": [
    {
     "name": "stdout",
     "output_type": "stream",
     "text": [
      "multiple\n",
      "factor\n",
      "neither\n"
     ]
    }
   ],
   "source": [
    "# 배수와 약수\n",
    "\n",
    "# 문제\n",
    "# 4 × 3 = 12이다.\n",
    "\n",
    "# 이 식을 통해 다음과 같은 사실을 알 수 있다.\n",
    "\n",
    "# 3은 12의 약수이고, 12는 3의 배수이다.\n",
    "\n",
    "# 4도 12의 약수이고, 12는 4의 배수이다.\n",
    "\n",
    "# 두 수가 주어졌을 때, 다음 3가지 중 어떤 관계인지 구하는 프로그램을 작성하시오.\n",
    "\n",
    "# 첫 번째 숫자가 두 번째 숫자의 약수이다.\n",
    "# 첫 번째 숫자가 두 번째 숫자의 배수이다.\n",
    "# 첫 번째 숫자가 두 번째 숫자의 약수와 배수 모두 아니다.\n",
    "# 입력\n",
    "# 입력은 여러 테스트 케이스로 이루어져 있다. 각 테스트 케이스는 10,000이 넘지않는 두 자연수로 이루어져 있다. 마지막 줄에는 0이 2개 주어진다. 두 수가 같은 경우는 없다.\n",
    "\n",
    "# 출력\n",
    "# 각 테스트 케이스마다 첫 번째 숫자가 두 번째 숫자의 약수라면 factor를, 배수라면 multiple을, 둘 다 아니라면 neither를 출력한다.\n",
    "\n",
    "while True:\n",
    "    A, B = map(int, input().split())\n",
    "\n",
    "    if A == 0 and B == 0:\n",
    "        break  # 종료 조건\n",
    "\n",
    "    if B % A == 0:\n",
    "        print(\"factor\")\n",
    "    elif A % B == 0:\n",
    "        print(\"multiple\")\n",
    "    else:\n",
    "        print(\"neither\")"
   ]
  },
  {
   "cell_type": "code",
   "execution_count": null,
   "metadata": {},
   "outputs": [
    {
     "name": "stdout",
     "output_type": "stream",
     "text": [
      "1\n"
     ]
    }
   ],
   "source": [
    "# 약수 구하기\n",
    "\n",
    "# 문제\n",
    "# 어떤 자연수 p와 q가 있을 때, 만일 p를 q로 나누었을 때 나머지가 0이면 q는 p의 약수이다.\n",
    "\n",
    "# 6을 예로 들면\n",
    "\n",
    "# 6 ÷ 1 = 6 … 0\n",
    "# 6 ÷ 2 = 3 … 0\n",
    "# 6 ÷ 3 = 2 … 0\n",
    "# 6 ÷ 4 = 1 … 2\n",
    "# 6 ÷ 5 = 1 … 1\n",
    "# 6 ÷ 6 = 1 … 0\n",
    "# 그래서 6의 약수는 1, 2, 3, 6, 총 네 개이다.\n",
    "\n",
    "# 두 개의 자연수 N과 K가 주어졌을 때, N의 약수들 중 K번째로 작은 수를 출력하는 프로그램을 작성하시오.\n",
    "\n",
    "# 입력\n",
    "# 첫째 줄에 N과 K가 빈칸을 사이에 두고 주어진다. N은 1 이상 10,000 이하이다. K는 1 이상 N 이하이다.\n",
    "\n",
    "# 출력\n",
    "# 첫째 줄에 N의 약수들 중 K번째로 작은 수를 출력한다. 만일 N의 약수의 개수가 K개보다 적어서 K번째 약수가 존재하지 않을 경우에는 0을 출력하시오.\n",
    "\n",
    "N, K = map(int, input().split())\n",
    "\n",
    "# N의 약수 구하기\n",
    "divisors = [i for i in range(1, N + 1) if N % i == 0]\n",
    "\n",
    "# K번째 약수 출력 (없으면 0 출력)\n",
    "if len(divisors) >= K:\n",
    "    print(divisors[K - 1])\n",
    "else:\n",
    "    print(0)"
   ]
  },
  {
   "cell_type": "code",
   "execution_count": null,
   "metadata": {},
   "outputs": [
    {
     "name": "stdout",
     "output_type": "stream",
     "text": [
      "6 = 1 + 2 + 3\n",
      "12 = is NOT perfect.\n",
      "28 = 1 + 2 + 4 + 7 + 14\n"
     ]
    }
   ],
   "source": [
    "# 약수들의 합\n",
    "\n",
    "# 문제\n",
    "# 어떤 숫자 n이 자신을 제외한 모든 약수들의 합과 같으면, 그 수를 완전수라고 한다.\n",
    "\n",
    "# 예를 들어 6은 6 = 1 + 2 + 3 으로 완전수이다.\n",
    "\n",
    "# n이 완전수인지 아닌지 판단해주는 프로그램을 작성하라.\n",
    "\n",
    "# 입력\n",
    "# 입력은 테스트 케이스마다 한 줄 간격으로 n이 주어진다. (2 < n < 100,000)\n",
    "\n",
    "# 입력의 마지막엔 -1이 주어진다.\n",
    "\n",
    "# 출력\n",
    "# 테스트케이스 마다 한줄에 하나씩 출력해야 한다.\n",
    "\n",
    "# n이 완전수라면, n을 n이 아닌 약수들의 합으로 나타내어 출력한다(예제 출력 참고).\n",
    "\n",
    "# 이때, 약수들은 오름차순으로 나열해야 한다.\n",
    "\n",
    "# n이 완전수가 아니라면 n is NOT perfect. 를 출력한다.\n",
    "\n",
    "while True:\n",
    "    n = int(input())\n",
    "\n",
    "    if n == -1:\n",
    "        break\n",
    "\n",
    "    divisors = [i for i in range(1, n) if n % i == 0]\n",
    "\n",
    "    if sum(divisors) == n:\n",
    "        print(f\"{n} = \" + \" + \".join(map(str, divisors)))\n",
    "    else:\n",
    "        print(f\"{n} is NOT perfect.\")"
   ]
  },
  {
   "cell_type": "code",
   "execution_count": 43,
   "metadata": {},
   "outputs": [
    {
     "name": "stdout",
     "output_type": "stream",
     "text": [
      "0\n"
     ]
    }
   ],
   "source": [
    "# 소수 찾기\n",
    "\n",
    "# 문제\n",
    "# 주어진 수 N개 중에서 소수가 몇 개인지 찾아서 출력하는 프로그램을 작성하시오.\n",
    "\n",
    "# 입력\n",
    "# 첫 줄에 수의 개수 N이 주어진다. N은 100이하이다. 다음으로 N개의 수가 주어지는데 수는 1,000 이하의 자연수이다.\n",
    "\n",
    "# 출력\n",
    "# 주어진 수들 중 소수의 개수를 출력한다.\n",
    "\n",
    "N = int(input())\n",
    "numbers = list(map(int, input().split()))\n",
    "\n",
    "decimal_count = 0\n",
    "for number in numbers:\n",
    "    is_decimal = True\n",
    "    if number < 2:\n",
    "        continue\n",
    "    for i in range(2, number + 1):\n",
    "        if i == number and is_decimal:\n",
    "            decimal_count += 1\n",
    "            break\n",
    "            \n",
    "        if number % i == 0:\n",
    "            is_decimal = False\n",
    "            \n",
    "print(decimal_count)"
   ]
  },
  {
   "cell_type": "code",
   "execution_count": null,
   "metadata": {},
   "outputs": [
    {
     "name": "stdout",
     "output_type": "stream",
     "text": [
      "620\n",
      "61\n",
      "7.745966692414834\n"
     ]
    }
   ],
   "source": [
    "# 소수\n",
    "\n",
    "# 문제\n",
    "# 자연수 M과 N이 주어질 때 M이상 N이하의 자연수 중 소수인 것을 모두 골라 이들 소수의 합과 최솟값을 찾는 프로그램을 작성하시오.\n",
    "\n",
    "# 예를 들어 M=60, N=100인 경우 60이상 100이하의 자연수 중 소수는 61, 67, 71, 73, 79, 83, 89, 97 총 8개가 있으므로, 이들 소수의 합은 620이고, 최솟값은 61이 된다.\n",
    "\n",
    "# 입력\n",
    "# 입력의 첫째 줄에 M이, 둘째 줄에 N이 주어진다.\n",
    "\n",
    "# M과 N은 10,000이하의 자연수이며, M은 N보다 작거나 같다.\n",
    "\n",
    "# 출력\n",
    "# M이상 N이하의 자연수 중 소수인 것을 모두 찾아 첫째 줄에 그 합을, 둘째 줄에 그 중 최솟값을 출력한다.\n",
    "\n",
    "# 단, M이상 N이하의 자연수 중 소수가 없을 경우는 첫째 줄에 -1을 출력한다.\n",
    "\n",
    "import math\n",
    "\n",
    "def is_prime(n):\n",
    "    if n < 2:\n",
    "        return False\n",
    "    for i in range(2, int(math.sqrt(n)) + 1):\n",
    "        if n % i == 0:\n",
    "            return False\n",
    "    return True\n",
    "\n",
    "# 입력 받기\n",
    "M = int(input())\n",
    "N = int(input())\n",
    "\n",
    "# M 이상 N 이하의 소수 찾기\n",
    "primes = [num for num in range(M, N + 1) if is_prime(num)]\n",
    "\n",
    "# 출력\n",
    "if primes:\n",
    "    print(sum(primes))  # 소수의 합\n",
    "    print(min(primes))  # 최솟값\n",
    "else:\n",
    "    print(-1)  # 소수가 없는 경우"
   ]
  },
  {
   "cell_type": "code",
   "execution_count": null,
   "metadata": {},
   "outputs": [
    {
     "name": "stdout",
     "output_type": "stream",
     "text": [
      "97\n",
      "103\n"
     ]
    }
   ],
   "source": [
    "# 소인수분해\n",
    "\n",
    "# 문제\n",
    "# 정수 N이 주어졌을 때, 소인수분해하는 프로그램을 작성하시오.\n",
    "\n",
    "# 입력\n",
    "# 첫째 줄에 정수 N (1 ≤ N ≤ 10,000,000)이 주어진다.\n",
    "\n",
    "# 출력\n",
    "# N의 소인수분해 결과를 한 줄에 하나씩 오름차순으로 출력한다. N이 1인 경우 아무것도 출력하지 않는다.\n",
    "\n",
    "import math\n",
    "\n",
    "N = int(input())\n",
    "\n",
    "for i in range(2, math.isqrt(N) + 1):  # 2부터 √N까지 나누기\n",
    "    while N % i == 0:\n",
    "        print(i)\n",
    "        N //= i\n",
    "\n",
    "if N > 1:\n",
    "    print(N)"
   ]
  },
  {
   "cell_type": "code",
   "execution_count": null,
   "metadata": {},
   "outputs": [],
   "source": []
  }
 ],
 "metadata": {
  "kernelspec": {
   "display_name": "Python 3",
   "language": "python",
   "name": "python3"
  },
  "language_info": {
   "codemirror_mode": {
    "name": "ipython",
    "version": 3
   },
   "file_extension": ".py",
   "mimetype": "text/x-python",
   "name": "python",
   "nbconvert_exporter": "python",
   "pygments_lexer": "ipython3",
   "version": "3.12.8"
  }
 },
 "nbformat": 4,
 "nbformat_minor": 2
}
