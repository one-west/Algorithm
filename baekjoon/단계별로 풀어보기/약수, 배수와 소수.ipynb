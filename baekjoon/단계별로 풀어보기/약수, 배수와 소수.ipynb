{
 "cells": [
  {
   "cell_type": "code",
   "execution_count": null,
   "metadata": {},
   "outputs": [
    {
     "name": "stdout",
     "output_type": "stream",
     "text": [
      "multiple\n",
      "factor\n",
      "neither\n"
     ]
    }
   ],
   "source": [
    "# 배수와 약수\n",
    "\n",
    "# 문제\n",
    "# 4 × 3 = 12이다.\n",
    "\n",
    "# 이 식을 통해 다음과 같은 사실을 알 수 있다.\n",
    "\n",
    "# 3은 12의 약수이고, 12는 3의 배수이다.\n",
    "\n",
    "# 4도 12의 약수이고, 12는 4의 배수이다.\n",
    "\n",
    "# 두 수가 주어졌을 때, 다음 3가지 중 어떤 관계인지 구하는 프로그램을 작성하시오.\n",
    "\n",
    "# 첫 번째 숫자가 두 번째 숫자의 약수이다.\n",
    "# 첫 번째 숫자가 두 번째 숫자의 배수이다.\n",
    "# 첫 번째 숫자가 두 번째 숫자의 약수와 배수 모두 아니다.\n",
    "# 입력\n",
    "# 입력은 여러 테스트 케이스로 이루어져 있다. 각 테스트 케이스는 10,000이 넘지않는 두 자연수로 이루어져 있다. 마지막 줄에는 0이 2개 주어진다. 두 수가 같은 경우는 없다.\n",
    "\n",
    "# 출력\n",
    "# 각 테스트 케이스마다 첫 번째 숫자가 두 번째 숫자의 약수라면 factor를, 배수라면 multiple을, 둘 다 아니라면 neither를 출력한다.\n",
    "\n",
    "while True:\n",
    "    A, B = map(int, input().split())\n",
    "    \n",
    "    if A == 0 and B == 0:\n",
    "        break  # 종료 조건\n",
    "\n",
    "    if B % A == 0:\n",
    "        print(\"factor\")\n",
    "    elif A % B == 0:\n",
    "        print(\"multiple\")\n",
    "    else:\n",
    "        print(\"neither\")\n"
   ]
  },
  {
   "cell_type": "code",
   "execution_count": 10,
   "metadata": {},
   "outputs": [
    {
     "name": "stdout",
     "output_type": "stream",
     "text": [
      "1\n"
     ]
    }
   ],
   "source": [
    "# 약수 구하기\n",
    "\n",
    "# 문제\n",
    "# 어떤 자연수 p와 q가 있을 때, 만일 p를 q로 나누었을 때 나머지가 0이면 q는 p의 약수이다.\n",
    "\n",
    "# 6을 예로 들면\n",
    "\n",
    "# 6 ÷ 1 = 6 … 0\n",
    "# 6 ÷ 2 = 3 … 0\n",
    "# 6 ÷ 3 = 2 … 0\n",
    "# 6 ÷ 4 = 1 … 2\n",
    "# 6 ÷ 5 = 1 … 1\n",
    "# 6 ÷ 6 = 1 … 0\n",
    "# 그래서 6의 약수는 1, 2, 3, 6, 총 네 개이다.\n",
    "\n",
    "# 두 개의 자연수 N과 K가 주어졌을 때, N의 약수들 중 K번째로 작은 수를 출력하는 프로그램을 작성하시오.\n",
    "\n",
    "# 입력\n",
    "# 첫째 줄에 N과 K가 빈칸을 사이에 두고 주어진다. N은 1 이상 10,000 이하이다. K는 1 이상 N 이하이다.\n",
    "\n",
    "# 출력\n",
    "# 첫째 줄에 N의 약수들 중 K번째로 작은 수를 출력한다. 만일 N의 약수의 개수가 K개보다 적어서 K번째 약수가 존재하지 않을 경우에는 0을 출력하시오.\n",
    "\n",
    "N, K = map(int, input().split())\n",
    "\n",
    "for i in range(1, N + 1):\n",
    "    if N % i == 0:\n",
    "        K -= 1\n",
    "    if K == 0:\n",
    "        print(i)\n",
    "        break\n",
    "    elif i == N:\n",
    "        print(0)\n",
    "        break\n",
    "\n"
   ]
  },
  {
   "cell_type": "code",
   "execution_count": null,
   "metadata": {},
   "outputs": [],
   "source": []
  },
  {
   "cell_type": "code",
   "execution_count": null,
   "metadata": {},
   "outputs": [],
   "source": []
  },
  {
   "cell_type": "code",
   "execution_count": null,
   "metadata": {},
   "outputs": [],
   "source": []
  },
  {
   "cell_type": "code",
   "execution_count": null,
   "metadata": {},
   "outputs": [],
   "source": []
  },
  {
   "cell_type": "code",
   "execution_count": null,
   "metadata": {},
   "outputs": [],
   "source": []
  }
 ],
 "metadata": {
  "kernelspec": {
   "display_name": "Python 3",
   "language": "python",
   "name": "python3"
  },
  "language_info": {
   "codemirror_mode": {
    "name": "ipython",
    "version": 3
   },
   "file_extension": ".py",
   "mimetype": "text/x-python",
   "name": "python",
   "nbconvert_exporter": "python",
   "pygments_lexer": "ipython3",
   "version": "3.12.8"
  }
 },
 "nbformat": 4,
 "nbformat_minor": 2
}
