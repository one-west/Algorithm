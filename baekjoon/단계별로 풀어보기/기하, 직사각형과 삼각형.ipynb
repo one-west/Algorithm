{
 "cells": [
  {
   "cell_type": "code",
   "execution_count": 1,
   "metadata": {},
   "outputs": [
    {
     "name": "stdout",
     "output_type": "stream",
     "text": [
      "16\n"
     ]
    }
   ],
   "source": [
    "# 직사각형\n",
    "\n",
    "# 문제\n",
    "# 정수 A, B 가 주어진다. 세로 길이가 A cm, 가로 길이가 B cm 인 아래와 같은 직사각형의 넓이를 cm2 단위로 구하시오.\n",
    "\n",
    "# 입력\n",
    "# 표준 입력에 다음과 같은 형태로 입력이 주어진다.\n",
    "\n",
    "# A\n",
    "# B\n",
    "# 출력\n",
    "# 세로 길이가 A cm, 가로 길이가 B cm인 직사각형의 넓이를 cm2 단위로 구하고, 단위 (cm2)를 생략하여 출력한다.\n",
    "\n",
    "# 제한\n",
    "# 1 ≦ A ≦ 100.\n",
    "# 1 ≦ B ≦ 100.\n",
    "# A, B 는 정수이다.\n",
    "\n",
    "A = int(input())\n",
    "B = int(input())\n",
    "\n",
    "if 1 <= A <= 100 and 1 <= B <= 100:\n",
    "    print(A * B)"
   ]
  },
  {
   "cell_type": "code",
   "execution_count": 2,
   "metadata": {},
   "outputs": [
    {
     "name": "stdout",
     "output_type": "stream",
     "text": [
      "1\n"
     ]
    }
   ],
   "source": [
    "# 직사각형에서 탈출\n",
    "\n",
    "# 문제\n",
    "# 한수는 지금 (x, y)에 있다. 직사각형은 각 변이 좌표축에 평행하고, 왼쪽 아래 꼭짓점은 (0, 0), 오른쪽 위 꼭짓점은 (w, h)에 있다. 직사각형의 경계선까지 가는 거리의 최솟값을 구하는 프로그램을 작성하시오.\n",
    "\n",
    "# 입력\n",
    "# 첫째 줄에 x, y, w, h가 주어진다.\n",
    "\n",
    "# 출력\n",
    "# 첫째 줄에 문제의 정답을 출력한다.\n",
    "\n",
    "# 제한\n",
    "# 1 ≤ w, h ≤ 1,000\n",
    "# 1 ≤ x ≤ w-1\n",
    "# 1 ≤ y ≤ h-1\n",
    "# x, y, w, h는 정수\n",
    "\n",
    "x, y, w, h = map(int, input().split())\n",
    "\n",
    "if 1 <= w <= 1000 and 1 <= h <= 1000 and 1 <= x <= w-1 and 1 <= y <= h-1:\n",
    "    print(min(x, w-x, y, h-y))"
   ]
  },
  {
   "cell_type": "code",
   "execution_count": null,
   "metadata": {},
   "outputs": [
    {
     "name": "stdout",
     "output_type": "stream",
     "text": [
      "[7] [7]\n"
     ]
    }
   ],
   "source": [
    "# 네 번째 점\n",
    "\n",
    "# 문제\n",
    "# 세 점이 주어졌을 때, 축에 평행한 직사각형을 만들기 위해서 필요한 네 번째 점을 찾는 프로그램을 작성하시오.\n",
    "\n",
    "# 입력\n",
    "# 세 점의 좌표가 한 줄에 하나씩 주어진다. 좌표는 1보다 크거나 같고, 1000보다 작거나 같은 정수이다.\n",
    "\n",
    "# 출력\n",
    "# 직사각형의 네 번째 점의 좌표를 출력한다.\n",
    "\n",
    "# x, y 좌표를 저장할 리스트\n",
    "x_list = []\n",
    "y_list = []\n",
    "\n",
    "# 입력 받기\n",
    "for _ in range(3):\n",
    "    x, y = map(int, input().split())\n",
    "    x_list.append(x)\n",
    "    y_list.append(y)\n",
    "\n",
    "# x, y 좌표 중 한 번만 등장한 값 찾기\n",
    "x4 = [x for x in x_list if x_list.count(x) == 1][0]\n",
    "y4 = [y for y in y_list if y_list.count(y) == 1][0]\n",
    "\n",
    "# 결과 출력\n",
    "print(x4, y4)"
   ]
  },
  {
   "cell_type": "code",
   "execution_count": null,
   "metadata": {},
   "outputs": [],
   "source": [
    "# 수학은 체육과목 입니다\n",
    "\n",
    "# 문제\n",
    "# 성원이는 수학을 정말 못 하는 고등학생이다. 수학을 못하는 대신 근성과 팔 힘이 뛰어난 성원이는 수학 시험에서 수학 지식을 사용하지 않고 근성과 체력을 사용해 문제를 푼다. 지난 시험에서는 아래 사진에 나와있는 문제를 근성과 체력을 사용해 열심히 풀었지만 사진에서 볼 수 있듯이 틀려버리고 말았다!\n",
    "\n",
    "# 결국 이 문제는 틀려버렸지만 성원이는 여전히 자신의 체력에 강한 자신감을 갖고 있다. 어떤 어려운 문제가 나와도 이런 식으로 근성과 체력을 사용하면 다 풀 수 있으니 이 방법은 최고의 방법이라고 생각하고 있다.\n",
    "\n",
    "# 성원이의 친구 형석이는 근성과 체력으로 수학 문제를 푸는 것은 굉장히 무식한 방법이라고 생각한다. 형석이는 수학을 공부하면 문제를 훨씬 빨리 풀 수 있다는 것을 알려주기 위해 위 사진에 나와있는 문제를 갖고 성원이와 퀴즈 내기를 하기로 했다. 위 사진의 문제를 다시 정리하면 아래와 같다.\n",
    "\n",
    "# \"한 변의 길이가 1인 정사각형을 아래 그림과 같이 겹치지 않게 빈틈없이 계속 붙여 나간다. 가장 아랫부분의 정사각형이 n개가 되었을 때, 실선으로 이루어진 도형의 둘레의 길이를 구하시오.\"\n",
    "\n",
    "# 가장 아랫부분의 정사각형 개수가 주어지면 그에 해당하는 답을 출력하는 프로그램을 만들어 형석이를 도와주자!\n",
    "\n",
    "# 입력\n",
    "# 첫 번째 줄에 가장 아랫부분의 정사각형 개수 n이 주어진다. (1 ≤ n ≤ 109)\n",
    "\n",
    "# 출력\n",
    "# 첫 번째 줄에 형석이가 말해야 하는 답을 출력한다.\n",
    "\n",
    "n = int(input())\n",
    "\n",
    "print(4 * n)"
   ]
  },
  {
   "cell_type": "code",
   "execution_count": null,
   "metadata": {},
   "outputs": [],
   "source": []
  },
  {
   "cell_type": "code",
   "execution_count": null,
   "metadata": {},
   "outputs": [],
   "source": []
  },
  {
   "cell_type": "code",
   "execution_count": null,
   "metadata": {},
   "outputs": [],
   "source": []
  },
  {
   "cell_type": "code",
   "execution_count": null,
   "metadata": {},
   "outputs": [],
   "source": []
  }
 ],
 "metadata": {
  "kernelspec": {
   "display_name": "Python 3",
   "language": "python",
   "name": "python3"
  },
  "language_info": {
   "codemirror_mode": {
    "name": "ipython",
    "version": 3
   },
   "file_extension": ".py",
   "mimetype": "text/x-python",
   "name": "python",
   "nbconvert_exporter": "python",
   "pygments_lexer": "ipython3",
   "version": "3.12.8"
  }
 },
 "nbformat": 4,
 "nbformat_minor": 2
}
