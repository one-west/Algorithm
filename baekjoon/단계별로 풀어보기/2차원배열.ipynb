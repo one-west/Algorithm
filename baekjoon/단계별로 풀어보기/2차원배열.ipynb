{
 "cells": [
  {
   "cell_type": "code",
   "execution_count": 5,
   "metadata": {},
   "outputs": [
    {
     "name": "stdout",
     "output_type": "stream",
     "text": [
      "4 4 4\n",
      "6 6 6\n",
      "5 6 100\n"
     ]
    }
   ],
   "source": [
    "# 행렬 덧셈\n",
    "\n",
    "# 문제\n",
    "# N*M크기의 두 행렬 A와 B가 주어졌을 때, 두 행렬을 더하는 프로그램을 작성하시오.\n",
    "\n",
    "# 입력\n",
    "# 첫째 줄에 행렬의 크기 N 과 M이 주어진다. 둘째 줄부터 N개의 줄에 행렬 A의 원소 M개가 차례대로 주어진다. 이어서 N개의 줄에 행렬 B의 원소 M개가 차례대로 주어진다. N과 M은 100보다 작거나 같고, 행렬의 원소는 절댓값이 100보다 작거나 같은 정수이다.\n",
    "\n",
    "# 출력\n",
    "# 첫째 줄부터 N개의 줄에 행렬 A와 B를 더한 행렬을 출력한다. 행렬의 각 원소는 공백으로 구분한다.\n",
    "\n",
    "N, M = map(int, input().split())\n",
    "\n",
    "A = [list(map(int, input().split())) for _ in range(N)]\n",
    "B = [list(map(int, input().split())) for _ in range(N)]\n",
    "\n",
    "for i in range(N):\n",
    "    result = [A[i][j] + B[i][j] for j in range(M)]\n",
    "    print(*result)"
   ]
  },
  {
   "cell_type": "code",
   "execution_count": 7,
   "metadata": {},
   "outputs": [
    {
     "name": "stdout",
     "output_type": "stream",
     "text": [
      "8\n",
      "1 9\n"
     ]
    }
   ],
   "source": [
    "# 최댓값\n",
    "\n",
    "# 문제\n",
    "# <그림 1>과 같이 9×9 격자판에 쓰여진 81개의 자연수 또는 0이 주어질 때, 이들 중 최댓값을 찾고 그 최댓값이 몇 행 몇 열에 위치한 수인지 구하는 프로그램을 작성하시오.\n",
    "\n",
    "# 예를 들어, 다음과 같이 81개의 수가 주어지면\n",
    "\n",
    "#  \t1열\t2열\t3열\t4열\t5열\t6열\t7열\t8열\t9열\n",
    "# 1행\t3\t23\t85\t34\t17\t74\t25\t52\t65\n",
    "# 2행\t10\t7\t39\t42\t88\t52\t14\t72\t63\n",
    "# 3행\t87\t42\t18\t78\t53\t45\t18\t84\t53\n",
    "# 4행\t34\t28\t64\t85\t12\t16\t75\t36\t55\n",
    "# 5행\t21\t77\t45\t35\t28\t75\t90\t76\t1\n",
    "# 6행\t25\t87\t65\t15\t28\t11\t37\t28\t74\n",
    "# 7행\t65\t27\t75\t41\t7\t89\t78\t64\t39\n",
    "# 8행\t47\t47\t70\t45\t23\t65\t3\t41\t44\n",
    "# 9행\t87\t13\t82\t38\t31\t12\t29\t29\t80\n",
    "# 이들 중 최댓값은 90이고, 이 값은 5행 7열에 위치한다.\n",
    "\n",
    "# 입력\n",
    "# 첫째 줄부터 아홉 번째 줄까지 한 줄에 아홉 개씩 수가 주어진다. 주어지는 수는 100보다 작은 자연수 또는 0이다.\n",
    "\n",
    "# 출력\n",
    "# 첫째 줄에 최댓값을 출력하고, 둘째 줄에 최댓값이 위치한 행 번호와 열 번호를 빈칸을 사이에 두고 차례로 출력한다. 최댓값이 두 개 이상인 경우 그 중 한 곳의 위치를 출력한다.\n",
    "\n",
    "matrix = [list(map(int, input().split())) for _ in range(9)]\n",
    "\n",
    "max_value = -1\n",
    "max_row, max_col = 0, 0\n",
    "\n",
    "for i in range(9):\n",
    "    for j in range(9):\n",
    "        if matrix[i][j] > max_value:\n",
    "            max_value = matrix[i][j]\n",
    "            max_row = i + 1\n",
    "            max_col = j + 1\n",
    "\n",
    "print(max_value)\n",
    "print(max_row, max_col)"
   ]
  },
  {
   "cell_type": "code",
   "execution_count": 14,
   "metadata": {},
   "outputs": [
    {
     "name": "stdout",
     "output_type": "stream",
     "text": [
      "Aa0FfBb1GgCc2HhDd3IiEe4Jj"
     ]
    }
   ],
   "source": [
    "# 세로읽기\n",
    "\n",
    "# 문제\n",
    "# 아직 글을 모르는 영석이가 벽에 걸린 칠판에 자석이 붙어있는 글자들을 붙이는 장난감을 가지고 놀고 있다. \n",
    "\n",
    "# 이 장난감에 있는 글자들은 영어 대문자 ‘A’부터 ‘Z’, 영어 소문자 ‘a’부터 ‘z’, 숫자 ‘0’부터 ‘9’이다. 영석이는 칠판에 글자들을 수평으로 일렬로 붙여서 단어를 만든다. 다시 그 아래쪽에 글자들을 붙여서 또 다른 단어를 만든다. 이런 식으로 다섯 개의 단어를 만든다. 아래 그림 1은 영석이가 칠판에 붙여 만든 단어들의 예이다. \n",
    "\n",
    "# A A B C D D\n",
    "# a f z z \n",
    "# 0 9 1 2 1\n",
    "# a 8 E W g 6\n",
    "# P 5 h 3 k x\n",
    "# <그림 1>\n",
    "\n",
    "# 한 줄의 단어는 글자들을 빈칸 없이 연속으로 나열해서 최대 15개의 글자들로 이루어진다. 또한 만들어진 다섯 개의 단어들의 글자 개수는 서로 다를 수 있다. \n",
    "\n",
    "# 심심해진 영석이는 칠판에 만들어진 다섯 개의 단어를 세로로 읽으려 한다. 세로로 읽을 때, 각 단어의 첫 번째 글자들을 위에서 아래로 세로로 읽는다. 다음에 두 번째 글자들을 세로로 읽는다. 이런 식으로 왼쪽에서 오른쪽으로 한 자리씩 이동 하면서 동일한 자리의 글자들을 세로로 읽어 나간다. 위의 그림 1의 다섯 번째 자리를 보면 두 번째 줄의 다섯 번째 자리의 글자는 없다. 이런 경우처럼 세로로 읽을 때 해당 자리의 글자가 없으면, 읽지 않고 그 다음 글자를 계속 읽는다. 그림 1의 다섯 번째 자리를 세로로 읽으면 D1gk로 읽는다. \n",
    "\n",
    "# 그림 1에서 영석이가 세로로 읽은 순서대로 글자들을 공백 없이 출력하면 다음과 같다:\n",
    "\n",
    "# Aa0aPAf985Bz1EhCz2W3D1gkD6x\n",
    "\n",
    "# 칠판에 붙여진 단어들이 주어질 때, 영석이가 세로로 읽은 순서대로 글자들을 출력하는 프로그램을 작성하시오.\n",
    "\n",
    "# 입력\n",
    "# 총 다섯줄의 입력이 주어진다. 각 줄에는 최소 1개, 최대 15개의 글자들이 빈칸 없이 연속으로 주어진다. 주어지는 글자는 영어 대문자 ‘A’부터 ‘Z’, 영어 소문자 ‘a’부터 ‘z’, 숫자 ‘0’부터 ‘9’ 중 하나이다. 각 줄의 시작과 마지막에 빈칸은 없다.\n",
    "\n",
    "# 출력\n",
    "# 영석이가 세로로 읽은 순서대로 글자들을 출력한다. 이때, 글자들을 공백 없이 연속해서 출력한다.\n",
    "\n",
    "word_list = [input() for _ in range(5)]\n",
    "\n",
    "for i in range(15):\n",
    "    for word in word_list:\n",
    "        if i < len(word):\n",
    "            print(word[i], end='')"
   ]
  },
  {
   "cell_type": "code",
   "execution_count": 22,
   "metadata": {},
   "outputs": [
    {
     "name": "stdout",
     "output_type": "stream",
     "text": [
      "260\n"
     ]
    }
   ],
   "source": [
    "# 색종이\n",
    "\n",
    "# 문제\n",
    "# 가로, 세로의 크기가 각각 100인 정사각형 모양의 흰색 도화지가 있다. 이 도화지 위에 가로, 세로의 크기가 각각 10인 정사각형 모양의 검은색 색종이를 색종이의 변과 도화지의 변이 평행하도록 붙인다. 이러한 방식으로 색종이를 한 장 또는 여러 장 붙인 후 색종이가 붙은 검은 영역의 넓이를 구하는 프로그램을 작성하시오.\n",
    "\n",
    "# 예를 들어 흰색 도화지 위에 세 장의 검은색 색종이를 그림과 같은 모양으로 붙였다면 검은색 영역의 넓이는 260이 된다.\n",
    "\n",
    "# 입력\n",
    "# 첫째 줄에 색종이의 수가 주어진다. 이어 둘째 줄부터 한 줄에 하나씩 색종이를 붙인 위치가 주어진다. 색종이를 붙인 위치는 두 개의 자연수로 주어지는데 첫 번째 자연수는 색종이의 왼쪽 변과 도화지의 왼쪽 변 사이의 거리이고, 두 번째 자연수는 색종이의 아래쪽 변과 도화지의 아래쪽 변 사이의 거리이다. 색종이의 수는 100 이하이며, 색종이가 도화지 밖으로 나가는 경우는 없다\n",
    "\n",
    "# 출력\n",
    "# 첫째 줄에 색종이가 붙은 검은 영역의 넓이를 출력한다.\n",
    "\n",
    "# 100x100 도화지 초기화\n",
    "paper = [[False] * 100 for _ in range(100)] \n",
    "\n",
    "# 색종이 수\n",
    "colored_paper = int(input())\n",
    "\n",
    "for _ in range(colored_paper):\n",
    "    paper_x, paper_y = map(int, input().split())\n",
    "    for i in range(paper_y, paper_y + 10):\n",
    "        for j in range(paper_x, paper_x + 10):\n",
    "            paper[i][j] = True\n",
    "\n",
    "# 검은색 영역의 넓이\n",
    "black_area = sum(row.count(True) for row in paper)\n",
    "print(black_area)"
   ]
  }
 ],
 "metadata": {
  "kernelspec": {
   "display_name": "Python 3",
   "language": "python",
   "name": "python3"
  },
  "language_info": {
   "codemirror_mode": {
    "name": "ipython",
    "version": 3
   },
   "file_extension": ".py",
   "mimetype": "text/x-python",
   "name": "python",
   "nbconvert_exporter": "python",
   "pygments_lexer": "ipython3",
   "version": "3.12.8"
  }
 },
 "nbformat": 4,
 "nbformat_minor": 2
}
