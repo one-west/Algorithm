{
 "cells": [
  {
   "cell_type": "code",
   "execution_count": 1,
   "metadata": {},
   "outputs": [
    {
     "name": "stdout",
     "output_type": "stream",
     "text": [
      "         ,r'\"7\n",
      "r`-_   ,'  ,/\n",
      " \\. \". L_r'\n",
      "   `~\\/\n",
      "      |\n",
      "      |\n",
      "\n"
     ]
    },
    {
     "name": "stderr",
     "output_type": "stream",
     "text": [
      "<>:12: SyntaxWarning: invalid escape sequence '\\.'\n",
      "<>:12: SyntaxWarning: invalid escape sequence '\\.'\n",
      "C:\\Users\\Public\\Documents\\ESTsoft\\CreatorTemp\\ipykernel_26348\\3174930135.py:12: SyntaxWarning: invalid escape sequence '\\.'\n",
      "  result = \"\"\"         ,r'\"7\n"
     ]
    }
   ],
   "source": [
    "# 새싹\n",
    "\n",
    "# 문제\n",
    "# 아래 예제와 같이 새싹을 출력하시오.\n",
    "\n",
    "# 입력\n",
    "# 입력은 없다.\n",
    "\n",
    "# 출력\n",
    "# 새싹을 출력한다.\n",
    "\n",
    "result = \"\"\"         ,r'\"7\n",
    "r`-_   ,'  ,/\n",
    " \\. \". L_r'\n",
    "   `~\\/\n",
    "      |\n",
    "      |\n",
    "\"\"\"\n",
    "print(result)"
   ]
  },
  {
   "cell_type": "code",
   "execution_count": 7,
   "metadata": {},
   "outputs": [
    {
     "name": "stdout",
     "output_type": "stream",
     "text": [
      "[-1, 0, 0, 1, 0, 7]\n"
     ]
    }
   ],
   "source": [
    "# 킹, 퀸, 룩, 비숍, 나이트, 폰\n",
    "\n",
    "# 문제\n",
    "# 동혁이는 오래된 창고를 뒤지다가 낡은 체스판과 피스를 발견했다.\n",
    "\n",
    "# 체스판의 먼지를 털어내고 걸레로 닦으니 그럭저럭 쓸만한 체스판이 되었다. 하지만, 검정색 피스는 모두 있었으나, 흰색 피스는 개수가 올바르지 않았다.\n",
    "\n",
    "# 체스는 총 16개의 피스를 사용하며, 킹 1개, 퀸 1개, 룩 2개, 비숍 2개, 나이트 2개, 폰 8개로 구성되어 있다.\n",
    "\n",
    "# 동혁이가 발견한 흰색 피스의 개수가 주어졌을 때, 몇 개를 더하거나 빼야 올바른 세트가 되는지 구하는 프로그램을 작성하시오.\n",
    "\n",
    "# 입력\n",
    "# 첫째 줄에 동혁이가 찾은 흰색 킹, 퀸, 룩, 비숍, 나이트, 폰의 개수가 주어진다. 이 값은 0보다 크거나 같고 10보다 작거나 같은 정수이다.\n",
    "\n",
    "# 출력\n",
    "# 첫째 줄에 입력에서 주어진 순서대로 몇 개의 피스를 더하거나 빼야 되는지를 출력한다. 만약 수가 양수라면 동혁이는 그 개수 만큼 피스를 더해야 하는 것이고, 음수라면 제거해야 하는 것이다.\n",
    "\n",
    "chess_set = [1, 1, 2, 2, 2, 8]\n",
    "input_set = list(map(int, input().split()))\n",
    "\n",
    "output_set = [i - x for i, x in zip(chess_set, input_set)]\n",
    "print(*output_set)"
   ]
  },
  {
   "cell_type": "code",
   "execution_count": 14,
   "metadata": {},
   "outputs": [
    {
     "name": "stdout",
     "output_type": "stream",
     "text": [
      "    *\n",
      "   ***\n",
      "  *****\n",
      " *******\n",
      "*********\n",
      " *******\n",
      "  *****\n",
      "   ***\n",
      "    *\n"
     ]
    }
   ],
   "source": [
    "# 별 찍기 - 7\n",
    "\n",
    "# 문제\n",
    "# 예제를 보고 규칙을 유추한 뒤에 별을 찍어 보세요.\n",
    "\n",
    "# 입력\n",
    "# 첫째 줄에 N(1 ≤ N ≤ 100)이 주어진다.\n",
    "\n",
    "# 출력\n",
    "# 첫째 줄부터 2×N-1번째 줄까지 차례대로 별을 출력한다.\n",
    "\n",
    "N = int(input())\n",
    "\n",
    "for i in range(1, N+1):\n",
    "    print(\" \" * (N - i) + \"*\" * (2 * i - 1))\n",
    "\n",
    "for i in range(N-1, 0, -1):\n",
    "    print(\" \" * (N - i) + \"*\" * (2 * i - 1))"
   ]
  },
  {
   "cell_type": "code",
   "execution_count": 19,
   "metadata": {},
   "outputs": [
    {
     "name": "stdout",
     "output_type": "stream",
     "text": [
      "0\n"
     ]
    }
   ],
   "source": [
    "# 팰린드롬인지 확인하기\n",
    "\n",
    "# 문제\n",
    "# 알파벳 소문자로만 이루어진 단어가 주어진다. 이때, 이 단어가 팰린드롬인지 아닌지 확인하는 프로그램을 작성하시오.\n",
    "\n",
    "# 팰린드롬이란 앞으로 읽을 때와 거꾸로 읽을 때 똑같은 단어를 말한다. \n",
    "\n",
    "# level, noon은 팰린드롬이고, baekjoon, online, judge는 팰린드롬이 아니다.\n",
    "\n",
    "# 입력\n",
    "# 첫째 줄에 단어가 주어진다. 단어의 길이는 1보다 크거나 같고, 100보다 작거나 같으며, 알파벳 소문자로만 이루어져 있다.\n",
    "\n",
    "# 출력\n",
    "# 첫째 줄에 팰린드롬이면 1, 아니면 0을 출력한다.\n",
    "\n",
    "palindrome = input()\n",
    "\n",
    "for i in range(len(palindrome)):\n",
    "    if palindrome[i]!= palindrome[-i-1]:\n",
    "        print(0)\n",
    "        break\n",
    "    \n",
    "    if i == len(palindrome) - 1:\n",
    "        print(1)"
   ]
  },
  {
   "cell_type": "code",
   "execution_count": null,
   "metadata": {},
   "outputs": [
    {
     "name": "stdout",
     "output_type": "stream",
     "text": [
      "Z\n",
      "{'A': 1, 'Z': 2}\n"
     ]
    }
   ],
   "source": [
    "# 단어 공부\n",
    "\n",
    "# 문제\n",
    "# 알파벳 대소문자로 된 단어가 주어지면, 이 단어에서 가장 많이 사용된 알파벳이 무엇인지 알아내는 프로그램을 작성하시오. 단, 대문자와 소문자를 구분하지 않는다.\n",
    "\n",
    "# 입력\n",
    "# 첫째 줄에 알파벳 대소문자로 이루어진 단어가 주어진다. 주어지는 단어의 길이는 1,000,000을 넘지 않는다.\n",
    "\n",
    "# 출력\n",
    "# 첫째 줄에 이 단어에서 가장 많이 사용된 알파벳을 대문자로 출력한다. 단, 가장 많이 사용된 알파벳이 여러 개 존재하는 경우에는 ?를 출력한다.\n",
    "\n",
    "alphabets = \"ABCDEFGHIJKLMNOPQRSTUVWXYZ\"\n",
    "\n",
    "word = input().upper()\n",
    "word_count = {}\n",
    "\n",
    "for alphabet in alphabets:\n",
    "    if alphabet in word:\n",
    "        word_count.update({alphabet: word.count(alphabet)})\n",
    "\n",
    "max_count = max(word_count.values())\n",
    "\n",
    "max_alphabet = [k for k, v in word_count.items() if v == max_count]\n",
    "\n",
    "print(max_alphabet[0] if len(max_alphabet) == 1  else \"?\")"
   ]
  },
  {
   "cell_type": "code",
   "execution_count": null,
   "metadata": {},
   "outputs": [
    {
     "name": "stdout",
     "output_type": "stream",
     "text": [
      "2\n"
     ]
    }
   ],
   "source": [
    "# 크로아티아 알파벳\n",
    "\n",
    "# 문제\n",
    "# 예전에는 운영체제에서 크로아티아 알파벳을 입력할 수가 없었다. 따라서, 다음과 같이 크로아티아 알파벳을 변경해서 입력했다.\n",
    "\n",
    "# 크로아티아 알파벳 | 변경\n",
    "# č\t                 c=\n",
    "# ć\t                 c-\n",
    "# dž\t             dz=\n",
    "# đ\t                 d-\n",
    "# lj\t             lj\n",
    "# nj\t             nj\n",
    "# š\t                 s=\n",
    "# ž\t                 z=\n",
    "# 예를 들어, ljes=njak은 크로아티아 알파벳 6개(lj, e, š, nj, a, k)로 이루어져 있다. 단어가 주어졌을 때, 몇 개의 크로아티아 알파벳으로 이루어져 있는지 출력한다.\n",
    "\n",
    "# dž는 무조건 하나의 알파벳으로 쓰이고, d와 ž가 분리된 것으로 보지 않는다. lj와 nj도 마찬가지이다. 위 목록에 없는 알파벳은 한 글자씩 센다.\n",
    "\n",
    "# 입력\n",
    "# 첫째 줄에 최대 100글자의 단어가 주어진다. 알파벳 소문자와 '-', '='로만 이루어져 있다.\n",
    "\n",
    "# 단어는 크로아티아 알파벳으로 이루어져 있다. 문제 설명의 표에 나와있는 알파벳은 변경된 형태로 입력된다.\n",
    "\n",
    "# 출력\n",
    "# 입력으로 주어진 단어가 몇 개의 크로아티아 알파벳으로 이루어져 있는지 출력한다.\n",
    "\n",
    "Croatia_alphabet = [\"c=\", \"c-\", \"dz=\", \"d-\", \"lj\", \"nj\", \"s=\", \"z=\"]\n",
    "\n",
    "word = input().strip()\n",
    "count = 0\n",
    "\n",
    "for i in Croatia_alphabet:\n",
    "    word = word.replace(i, \"*\")\n",
    "    \n",
    "print(len(word))"
   ]
  },
  {
   "cell_type": "code",
   "execution_count": 58,
   "metadata": {},
   "outputs": [
    {
     "name": "stdout",
     "output_type": "stream",
     "text": [
      "3\n"
     ]
    }
   ],
   "source": [
    "# 그룹 단어 체커\n",
    "\n",
    "# 문제\n",
    "# 그룹 단어란 단어에 존재하는 모든 문자에 대해서, 각 문자가 연속해서 나타나는 경우만을 말한다. 예를 들면, ccazzzzbb는 c, a, z, b가 모두 연속해서 나타나고, kin도 k, i, n이 연속해서 나타나기 때문에 그룹 단어이지만, aabbbccb는 b가 떨어져서 나타나기 때문에 그룹 단어가 아니다.\n",
    "\n",
    "# 단어 N개를 입력으로 받아 그룹 단어의 개수를 출력하는 프로그램을 작성하시오.\n",
    "\n",
    "# 입력\n",
    "# 첫째 줄에 단어의 개수 N이 들어온다. N은 100보다 작거나 같은 자연수이다. 둘째 줄부터 N개의 줄에 단어가 들어온다. 단어는 알파벳 소문자로만 되어있고 중복되지 않으며, 길이는 최대 100이다.\n",
    "\n",
    "# 출력\n",
    "# 첫째 줄에 그룹 단어의 개수를 출력한다.\n",
    "\n",
    "N = int(input()) # 단어 개수\n",
    "count = 0\n",
    "\n",
    "def is_group_word(word): \n",
    "    set_appear_char = set()\n",
    "    prev_char = \"\"\n",
    "    \n",
    "    for char in word:\n",
    "        if char in set_appear_char and char != prev_char:\n",
    "            return False\n",
    "        \n",
    "        set_appear_char.add(char)\n",
    "        prev_char = char\n",
    "        \n",
    "    return True\n",
    "\n",
    "for i in range(N): \n",
    "    word = input() # N개의 단어\n",
    "    \n",
    "    if is_group_word(word):\n",
    "        count += 1\n",
    "\n",
    "print(count)"
   ]
  },
  {
   "cell_type": "code",
   "execution_count": null,
   "metadata": {},
   "outputs": [
    {
     "name": "stdout",
     "output_type": "stream",
     "text": [
      "False\n",
      "False\n",
      "False\n",
      "False\n",
      "False\n",
      "False\n",
      "False\n",
      "False\n",
      "False\n",
      "False\n",
      "False\n",
      "False\n",
      "False\n",
      "False\n",
      "False\n",
      "False\n",
      "False\n",
      "False\n",
      "False\n",
      "3.284483\n"
     ]
    }
   ],
   "source": [
    "# 너의 평점은\n",
    "\n",
    "# 문제\n",
    "# 인하대학교 컴퓨터공학과를 졸업하기 위해서는, 전공평점이 3.3 이상이거나 졸업고사를 통과해야 한다. 그런데 아뿔싸, 치훈이는 깜빡하고 졸업고사를 응시하지 않았다는 사실을 깨달았다!\n",
    "\n",
    "# 치훈이의 전공평점을 계산해주는 프로그램을 작성해보자.\n",
    "\n",
    "# 전공평점은 전공과목별 (학점 × 과목평점)의 합을 학점의 총합으로 나눈 값이다.\n",
    "\n",
    "# 인하대학교 컴퓨터공학과의 등급에 따른 과목평점은 다음 표와 같다.\n",
    "\n",
    "# A+\t4.5\n",
    "# A0\t4.0\n",
    "# B+\t3.5\n",
    "# B0\t3.0\n",
    "# C+\t2.5\n",
    "# C0\t2.0\n",
    "# D+\t1.5\n",
    "# D0\t1.0\n",
    "# F\t0.0\n",
    "# P/F 과목의 경우 등급이 P또는 F로 표시되는데, 등급이 P인 과목은 계산에서 제외해야 한다.\n",
    "\n",
    "# 과연 치훈이는 무사히 졸업할 수 있을까?\n",
    "\n",
    "# 입력\n",
    "# 20줄에 걸쳐 치훈이가 수강한 전공과목의 과목명, 학점, 등급이 공백으로 구분되어 주어진다.\n",
    "\n",
    "# 출력\n",
    "# 치훈이의 전공평점을 출력한다.\n",
    "\n",
    "# 정답과의 절대오차 또는 상대오차가\n",
    "# \\(10^{-4}\\) 이하이면 정답으로 인정한다.\n",
    "\n",
    "# 제한\n",
    "# 1 ≤ 과목명의 길이 ≤ 50\n",
    "# 과목명은 알파벳 대소문자 또는 숫자로만 이루어져 있으며, 띄어쓰기 없이 주어진다. 입력으로 주어지는 모든 과목명은 서로 다르다.\n",
    "# 학점은 1.0,2.0,3.0,4.0중 하나이다.\n",
    "# 등급은 A+,A0,B+,B0,C+,C0,D+,D0,F,P중 하나이다.\n",
    "# 적어도 한 과목은 등급이 P가 아님이 보장된다.\n",
    "\n",
    "# 성적표 매핑\n",
    "grade_dict = {\n",
    "    \"A+\": 4.5,\n",
    "    \"A0\": 4.0,\n",
    "    \"B+\": 3.5,\n",
    "    \"B0\": 3.0,\n",
    "    \"C+\": 2.5,\n",
    "    \"C0\": 2.0,\n",
    "    \"D+\": 1.5,\n",
    "    \"D0\": 1.0,\n",
    "    \"F\": 0.0,\n",
    "}\n",
    "\n",
    "total_score = 0  # (학점 × 과목평점)의 합\n",
    "total_credit = 0  # 학점의 총합\n",
    "list_subject = []\n",
    "\n",
    "for i in range(20):\n",
    "    subject, credit, rating = input().split()\n",
    "    credit = float(credit)\n",
    "    if not rating in [\"A+\",\"A0\",\"B+\",\"B0\",\"C+\",\"C0\",\"D+\",\"D0\",\"F\",\"P\"]:\n",
    "        break\n",
    "    if rating == \"P\":  # P 과목은 계산에서 제외\n",
    "        continue\n",
    "    if not credit in [1.0,2.0,3.0,4.0]:\n",
    "        break\n",
    "    if not (1 <= len(subject) <= 50) or not subject.isalnum() or subject in list_subject:\n",
    "        break\n",
    "    \n",
    "    list_subject.append(subject)\n",
    "    total_score += credit * grade_dict[rating]\n",
    "    total_credit += credit\n",
    "    \n",
    "\n",
    "print(f\"{total_score / total_credit:.6f}\")"
   ]
  },
  {
   "cell_type": "code",
   "execution_count": null,
   "metadata": {},
   "outputs": [],
   "source": []
  }
 ],
 "metadata": {
  "kernelspec": {
   "display_name": "Python 3",
   "language": "python",
   "name": "python3"
  },
  "language_info": {
   "codemirror_mode": {
    "name": "ipython",
    "version": 3
   },
   "file_extension": ".py",
   "mimetype": "text/x-python",
   "name": "python",
   "nbconvert_exporter": "python",
   "pygments_lexer": "ipython3",
   "version": "3.12.8"
  }
 },
 "nbformat": 4,
 "nbformat_minor": 2
}
