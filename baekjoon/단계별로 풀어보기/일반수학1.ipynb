{
 "cells": [
  {
   "cell_type": "code",
   "execution_count": 7,
   "metadata": {},
   "outputs": [
    {
     "name": "stdout",
     "output_type": "stream",
     "text": [
      "60466175\n"
     ]
    }
   ],
   "source": [
    "# 진법 변환\n",
    "\n",
    "# 문제\n",
    "# B진법 수 N이 주어진다. 이 수를 10진법으로 바꿔 출력하는 프로그램을 작성하시오.\n",
    "\n",
    "# 10진법을 넘어가는 진법은 숫자로 표시할 수 없는 자리가 있다. 이런 경우에는 다음과 같이 알파벳 대문자를 사용한다.\n",
    "\n",
    "# A: 10, B: 11, ..., F: 15, ..., Y: 34, Z: 35\n",
    "\n",
    "# 입력\n",
    "# 첫째 줄에 N과 B가 주어진다. (2 ≤ B ≤ 36)\n",
    "\n",
    "# B진법 수 N을 10진법으로 바꾸면, 항상 10억보다 작거나 같다.\n",
    "\n",
    "# 출력\n",
    "# 첫째 줄에 B진법 수 N을 10진법으로 출력한다.\n",
    "\n",
    "N, B = input().split()\n",
    "B = int(B)\n",
    "# 방법 1\n",
    "# print(int(N, base=B))\n",
    "\n",
    "# 방법 2\n",
    "decimal_value = 0\n",
    "for i, digit in enumerate(reversed(N)):  # 오른쪽부터 탐색\n",
    "    if '0' <= digit <= '9':  \n",
    "        num = int(digit)  # 숫자인 경우 그대로 변환\n",
    "    else:\n",
    "        num = ord(digit) - ord('A') + 10  # 문자(A~Z) 변환\n",
    "\n",
    "    decimal_value += num * (B ** i)  # B의 거듭제곱 계산\n",
    "    \n",
    "print(decimal_value)"
   ]
  },
  {
   "cell_type": "code",
   "execution_count": 10,
   "metadata": {},
   "outputs": [
    {
     "name": "stdout",
     "output_type": "stream",
     "text": [
      "ZZZZZ\n"
     ]
    }
   ],
   "source": [
    "# 진법 변환 2\n",
    "\n",
    "# 문제\n",
    "# 10진법 수 N이 주어진다. 이 수를 B진법으로 바꿔 출력하는 프로그램을 작성하시오.\n",
    "\n",
    "# 10진법을 넘어가는 진법은 숫자로 표시할 수 없는 자리가 있다. 이런 경우에는 다음과 같이 알파벳 대문자를 사용한다.\n",
    "\n",
    "# A: 10, B: 11, ..., F: 15, ..., Y: 34, Z: 35\n",
    "\n",
    "# 입력\n",
    "# 첫째 줄에 N과 B가 주어진다. (2 ≤ B ≤ 36) N은 10억보다 작거나 같은 자연수이다.\n",
    "\n",
    "# 출력\n",
    "# 첫째 줄에 10진법 수 N을 B진법으로 출력한다.\n",
    "\n",
    "N, B = map(int, input().split())\n",
    "\n",
    "result = \"\"\n",
    "while N > 0:\n",
    "    remainder = N % B\n",
    "    if remainder < 10:\n",
    "        result += str(remainder)  # 0~9 그대로 사용\n",
    "    else:\n",
    "        result += chr(remainder - 10 + ord(\"A\"))  # 10~35는 A~Z로 변환\n",
    "    N //= B  # 몫 갱신\n",
    "\n",
    "print(result[::-1])"
   ]
  },
  {
   "cell_type": "code",
   "execution_count": 12,
   "metadata": {},
   "outputs": [
    {
     "name": "stdout",
     "output_type": "stream",
     "text": [
      "4 2 0 4\n",
      "1 0 0 0\n",
      "7 1 1 4\n"
     ]
    }
   ],
   "source": [
    "# 세탁소 사장 동혁\n",
    "\n",
    "# 문제\n",
    "# 미국으로 유학간 동혁이는 세탁소를 운영하고 있다. 동혁이는 최근에 아르바이트로 고등학생 리암을 채용했다.\n",
    "\n",
    "# 동혁이는 리암에게 실망했다.\n",
    "\n",
    "# 리암은 거스름돈을 주는 것을 자꾸 실수한다.\n",
    "\n",
    "# 심지어 $0.5달러를 줘야하는 경우에 거스름돈으로 $5달러를 주는것이다!\n",
    "\n",
    "# 어쩔수 없이 뛰어난 코딩 실력을 발휘해 리암을 도와주는 프로그램을 작성하려고 하지만, 디아블로를 하느라 코딩할 시간이 없어서 이 문제를 읽고 있는 여러분이 대신 해주어야 한다.\n",
    "\n",
    "# 거스름돈의 액수가 주어지면 리암이 줘야할 쿼터(Quarter, $0.25)의 개수, 다임(Dime, $0.10)의 개수, 니켈(Nickel, $0.05)의 개수, 페니(Penny, $0.01)의 개수를 구하는 프로그램을 작성하시오. 거스름돈은 항상 $5.00 이하이고, 손님이 받는 동전의 개수를 최소로 하려고 한다. 예를 들어, $1.24를 거슬러 주어야 한다면, 손님은 4쿼터, 2다임, 0니켈, 4페니를 받게 된다.\n",
    "\n",
    "# 입력\n",
    "# 첫째 줄에 테스트 케이스의 개수 T가 주어진다. 각 테스트 케이스는 거스름돈 C를 나타내는 정수 하나로 이루어져 있다. C의 단위는 센트이다. (1달러 = 100센트) (1<=C<=500)\n",
    "\n",
    "# 출력\n",
    "# 각 테스트케이스에 대해 필요한 쿼터의 개수, 다임의 개수, 니켈의 개수, 페니의 개수를 공백으로 구분하여 출력한다.\n",
    "\n",
    "T = int(input())\n",
    "\n",
    "for i in range(T):\n",
    "    C = int(input())\n",
    "    \n",
    "    quarter = C // 25\n",
    "    C %= 25\n",
    "\n",
    "    dime = C // 10\n",
    "    C %= 10\n",
    "\n",
    "    nickel = C // 5\n",
    "    C %= 5\n",
    "\n",
    "    penny = C\n",
    "    \n",
    "    print(quarter, dime, nickel, penny)\n"
   ]
  },
  {
   "cell_type": "code",
   "execution_count": null,
   "metadata": {},
   "outputs": [],
   "source": []
  },
  {
   "cell_type": "code",
   "execution_count": null,
   "metadata": {},
   "outputs": [],
   "source": []
  }
 ],
 "metadata": {
  "kernelspec": {
   "display_name": "Python 3",
   "language": "python",
   "name": "python3"
  },
  "language_info": {
   "codemirror_mode": {
    "name": "ipython",
    "version": 3
   },
   "file_extension": ".py",
   "mimetype": "text/x-python",
   "name": "python",
   "nbconvert_exporter": "python",
   "pygments_lexer": "ipython3",
   "version": "3.12.8"
  }
 },
 "nbformat": 4,
 "nbformat_minor": 2
}
